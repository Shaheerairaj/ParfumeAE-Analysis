{
 "cells": [
  {
   "cell_type": "code",
   "execution_count": 1,
   "metadata": {},
   "outputs": [],
   "source": [
    "import pandas as pd\n",
    "import requests\n",
    "import bs4\n",
    "import lxml"
   ]
  },
  {
   "cell_type": "code",
   "execution_count": 1,
   "metadata": {},
   "outputs": [],
   "source": [
    "def get_frag_types():\n",
    "\n",
    "    '''\n",
    "    Grabs the fragrance types from the main page of parfum.ae\n",
    "    '''\n",
    "\n",
    "    result_main_page = requests.get(\"https://www.parfum.ae/fragrance/\")\n",
    "    soup_main_page = bs4.BeautifulSoup(result_main_page.text,'lxml')\n",
    "\n",
    "    # Contains elements for frag types\n",
    "    elements = soup_main_page.select('.innerlistside')[0].select('a')\n",
    "\n",
    "    frag_type_dict = {}\n",
    "\n",
    "    # Get fragrance type names and their URLs\n",
    "    for element in elements:\n",
    "        frag_type_dict[element.text] = element['href']\n",
    "\n",
    "    return frag_type_dict\n"
   ]
  },
  {
   "cell_type": "code",
   "execution_count": 300,
   "metadata": {},
   "outputs": [
    {
     "data": {
      "text/plain": [
       "{'Body Mist': 'https://www.parfum.ae/body-mist/',\n",
       " 'Car Perfume Diffuser': 'https://www.parfum.ae/car-perfume-diffuser/',\n",
       " 'Perfume Oils': 'https://www.parfum.ae/perfume-oils/',\n",
       " 'Our Creations': 'https://www.parfum.ae/oils/',\n",
       " 'Dahn Al Oud': 'https://www.parfum.ae/dahn-al-oud/',\n",
       " 'Interior Perfume': 'https://www.parfum.ae/interior-perfume/',\n",
       " 'Musk Oil': 'https://www.parfum.ae/musk-oil/',\n",
       " 'Perfume Reed Diffuser': 'https://www.parfum.ae/essential-oil-diffuser/'}"
      ]
     },
     "execution_count": 300,
     "metadata": {},
     "output_type": "execute_result"
    }
   ],
   "source": [
    "frag_type_dict"
   ]
  },
  {
   "cell_type": "code",
   "execution_count": 3,
   "metadata": {},
   "outputs": [],
   "source": [
    "# Looking Our Creations items first\n",
    "\n",
    "def prod_list_our_creations(frag_type_dict):\n",
    "\n",
    "    '''\n",
    "    Grabs the fragrace type dictionary containing the URLs for each fragrance type\n",
    "    and searches for all products listed under the Our Creations type\n",
    "    '''\n",
    "\n",
    "    result_frag_type = requests.get(frag_type_dict['Our Creations'])\n",
    "    soup_frag_type = bs4.BeautifulSoup(result_frag_type.text,'lxml')\n",
    "\n",
    "    last_page = soup_frag_type.select('.pagination')[0].select('li')[-1].select('a')[0]['href'].split('page-')[1][:-1]\n",
    "    prod_listing_dict = {}\n",
    "\n",
    "    for page in range(1, int(last_page)+1):\n",
    "        url = frag_type_dict['Our Creations'] + '/page-' + str(page)\n",
    "\n",
    "        result_frag_type = requests.get(url)\n",
    "        soup_frag_type = bs4.BeautifulSoup(result_frag_type.text,'lxml')\n",
    "\n",
    "        h3_elements = soup_frag_type.select('.product__detail__list.mt-4 h3')\n",
    "        \n",
    "        for h3 in h3_elements:\n",
    "            prod_listing_dict[h3.text[1:]] = h3.find('a')['href']\n",
    "\n",
    "    return prod_listing_dict"
   ]
  },
  {
   "cell_type": "code",
   "execution_count": null,
   "metadata": {},
   "outputs": [],
   "source": [
    "# Elements to get for products\n",
    "# 1. Product Title\n",
    "# 2. Hot\n",
    "# 3. Imitation of\n",
    "# 4. Fragrance part\n",
    "# 5. Top Note\n",
    "# 6. Middle Note\n",
    "# 7. Base Note\n",
    "# 8. Concentration\n",
    "# 9. Total Stars\n",
    "# 10. Total Reviews\n",
    "# 11. Individual stars\n",
    "# 12. Individual reviews\n",
    "# 13. Review Description"
   ]
  },
  {
   "cell_type": "code",
   "execution_count": 4,
   "metadata": {},
   "outputs": [],
   "source": [
    "def prod_info_our_creations(prod_listing_dict):\n",
    "\n",
    "    products = {}\n",
    "\n",
    "    for key,val in prod_listing_dict.items():\n",
    "        prod_result = requests.get(val)\n",
    "        prod_soup = bs4.BeautifulSoup(prod_result.text,'lxml')\n",
    "        \n",
    "        prod_dict = {}\n",
    "\n",
    "        try:\n",
    "            prod_dict['productTitle'] = prod_soup.select('.product-main__title')[0].text\n",
    "        except (IndexError, AttributeError):\n",
    "            prod_dict['productTitle'] = None\n",
    "\n",
    "        try:\n",
    "            prod_att_hot = prod_soup.select('.hot__product.product-main__hot')\n",
    "            prod_dict['hot'] = True if 'hot' in str(prod_att_hot) else False\n",
    "        except (IndexError, AttributeError):\n",
    "            prod_dict['hot'] = None\n",
    "\n",
    "        try:\n",
    "            prod_dict['imitationOf'] = prod_soup.find('span', style='touch-action: manipulation; font-weight: bolder; font-size: 18px;').text\n",
    "        except (AttributeError, TypeError):\n",
    "            prod_dict['imitationOf'] = None\n",
    "\n",
    "        try:\n",
    "            prod_dict['partOfFragrance'] = [element.text.replace('\\xa0','').replace('This perfume is part of','') for element in prod_soup.select('p') if 'This perfume is part of' in element.text][0]\n",
    "        except (IndexError, AttributeError):\n",
    "            prod_dict['partOfFragrance'] = None\n",
    "\n",
    "        try:\n",
    "            prod_dict['topNotes'] = [element.text.replace('Top Notes:\\xa0', '') for element in prod_soup.select('p') if 'Top Notes:' in element.text][0]\n",
    "        except (IndexError, AttributeError):\n",
    "            prod_dict['topNotes'] = None\n",
    "\n",
    "        try:\n",
    "            prod_dict['middleNotes'] = [element.text.replace('Middle Notes:\\xa0', '') for element in prod_soup.select('p') if 'Middle Notes:' in element.text][0]\n",
    "        except (IndexError, AttributeError):\n",
    "            prod_dict['middleNotes'] = None\n",
    "\n",
    "        try:\n",
    "            prod_dict['baseNotes'] = [element.text.replace('Base Notes:\\xa0', '') for element in prod_soup.select('p') if 'Base Notes:' in element.text][0].split(', ')\n",
    "        except (IndexError, AttributeError):\n",
    "            prod_dict['baseNotes'] = None\n",
    "\n",
    "        try:\n",
    "            prod_dict['concentration'] = [element.text.replace('Concentration:\\xa0', '') for element in prod_soup.select('p') if 'Concentration' in element.text][0]\n",
    "        except (IndexError, AttributeError):\n",
    "            prod_dict['concentration'] = None\n",
    "\n",
    "        try:\n",
    "            prod_dict['overallRating'] = len(prod_soup.select('.stars__wrap')[0].find_all('i', class_='fas fa-star'))\n",
    "        except (IndexError, AttributeError):\n",
    "            prod_dict['overallRating'] = None\n",
    "\n",
    "        try:\n",
    "            prod_dict['totalReviews'] = int(prod_soup.select('.stars__wrap')[0].text.replace('\\n','').split(' ')[0])\n",
    "        except (IndexError, AttributeError, ValueError):\n",
    "            prod_dict['totalReviews'] = None\n",
    "\n",
    "\n",
    "        products[prod_dict['productTitle']] = prod_dict\n",
    "\n",
    "    return products"
   ]
  },
  {
   "cell_type": "code",
   "execution_count": 363,
   "metadata": {},
   "outputs": [
    {
     "data": {
      "text/plain": [
       "796"
      ]
     },
     "execution_count": 363,
     "metadata": {},
     "output_type": "execute_result"
    }
   ],
   "source": [
    "len(products.keys())"
   ]
  },
  {
   "cell_type": "code",
   "execution_count": null,
   "metadata": {},
   "outputs": [],
   "source": []
  }
 ],
 "metadata": {
  "kernelspec": {
   "display_name": "parfumaeProject",
   "language": "python",
   "name": "python3"
  },
  "language_info": {
   "codemirror_mode": {
    "name": "ipython",
    "version": 3
   },
   "file_extension": ".py",
   "mimetype": "text/x-python",
   "name": "python",
   "nbconvert_exporter": "python",
   "pygments_lexer": "ipython3",
   "version": "3.8.3"
  }
 },
 "nbformat": 4,
 "nbformat_minor": 2
}
