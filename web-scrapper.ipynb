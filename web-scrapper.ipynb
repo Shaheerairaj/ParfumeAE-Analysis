{
 "cells": [
  {
   "cell_type": "code",
   "execution_count": 1,
   "metadata": {},
   "outputs": [],
   "source": [
    "import os\n",
    "import pandas as pd\n",
    "import requests\n",
    "import bs4\n",
    "import lxml\n",
    "import functions.web_scrapper_functions as scrpr\n",
    "import mysql.connector\n",
    "import json"
   ]
  },
  {
   "cell_type": "code",
   "execution_count": 2,
   "metadata": {},
   "outputs": [
    {
     "name": "stdout",
     "output_type": "stream",
     "text": [
      "Available fragrance types: \n",
      " dict_keys(['Body Mist', 'Car Perfume Diffuser', 'Perfume Oils', 'Our Creations', 'Dahn Al Oud', 'Interior Perfume', 'Musk Oil', 'Perfume Reed Diffuser'])\n"
     ]
    }
   ],
   "source": [
    "frag_type_dict = scrpr.get_frag_types()\n",
    "print(\"Available fragrance types: \\n\", frag_type_dict.keys())"
   ]
  },
  {
   "cell_type": "code",
   "execution_count": 3,
   "metadata": {},
   "outputs": [],
   "source": [
    "prod_list = scrpr.prod_list_our_creations(frag_type_dict)\n",
    "prods = scrpr.prod_info_our_creations(prod_list)"
   ]
  },
  {
   "cell_type": "code",
   "execution_count": 4,
   "metadata": {},
   "outputs": [
    {
     "data": {
      "text/plain": [
       "{'Body Mist': 'https://www.parfum.ae/body-mist/',\n",
       " 'Car Perfume Diffuser': 'https://www.parfum.ae/car-perfume-diffuser/',\n",
       " 'Perfume Oils': 'https://www.parfum.ae/perfume-oils/',\n",
       " 'Our Creations': 'https://www.parfum.ae/oils/',\n",
       " 'Dahn Al Oud': 'https://www.parfum.ae/dahn-al-oud/',\n",
       " 'Interior Perfume': 'https://www.parfum.ae/interior-perfume/',\n",
       " 'Musk Oil': 'https://www.parfum.ae/musk-oil/',\n",
       " 'Perfume Reed Diffuser': 'https://www.parfum.ae/essential-oil-diffuser/'}"
      ]
     },
     "execution_count": 4,
     "metadata": {},
     "output_type": "execute_result"
    }
   ],
   "source": [
    "frag_type_dict"
   ]
  },
  {
   "cell_type": "code",
   "execution_count": 13,
   "metadata": {},
   "outputs": [],
   "source": [
    "conn = mysql.connector.connect(\n",
    "    host = \"localhost\",\n",
    "    user = os.environ.get(\"MYSQL_USERNAME\"),\n",
    "    password = os.environ.get(\"MYSQL_PASSWORD\"),\n",
    "    database = \"parfumae_products\"\n",
    ")\n",
    "\n",
    "cursor = conn.cursor()"
   ]
  },
  {
   "cell_type": "code",
   "execution_count": 14,
   "metadata": {},
   "outputs": [],
   "source": [
    "\n",
    "try:\n",
    "    for key, val in frag_type_dict.items():\n",
    "        serialized_value = json.dumps(val)\n",
    "\n",
    "        insert_query = \"INSERT INTO fragrance_types (name, url) VALUES (%s, %s)\"\n",
    "        cursor.execute(insert_query, (key, serialized_value))\n",
    "    \n",
    "    conn.commit()\n",
    "\n",
    "except mysql.connector.Error as err:\n",
    "    print(f\"Error: {err}\")\n",
    "    conn.rollback()\n",
    "\n",
    "cursor.close()\n",
    "conn.close()"
   ]
  },
  {
   "cell_type": "code",
   "execution_count": 6,
   "metadata": {},
   "outputs": [
    {
     "name": "stdout",
     "output_type": "stream",
     "text": [
      "\"https://www.parfum.ae/body-mist/\"\n",
      "\"https://www.parfum.ae/car-perfume-diffuser/\"\n",
      "\"https://www.parfum.ae/perfume-oils/\"\n",
      "\"https://www.parfum.ae/oils/\"\n",
      "\"https://www.parfum.ae/dahn-al-oud/\"\n",
      "\"https://www.parfum.ae/interior-perfume/\"\n",
      "\"https://www.parfum.ae/musk-oil/\"\n",
      "\"https://www.parfum.ae/essential-oil-diffuser/\"\n"
     ]
    }
   ],
   "source": [
    "import json\n",
    "for key, val in frag_type_dict.items():\n",
    "    print(json.dumps(val))"
   ]
  },
  {
   "cell_type": "code",
   "execution_count": null,
   "metadata": {},
   "outputs": [],
   "source": []
  }
 ],
 "metadata": {
  "kernelspec": {
   "display_name": "parfumaeProject",
   "language": "python",
   "name": "python3"
  },
  "language_info": {
   "codemirror_mode": {
    "name": "ipython",
    "version": 3
   },
   "file_extension": ".py",
   "mimetype": "text/x-python",
   "name": "python",
   "nbconvert_exporter": "python",
   "pygments_lexer": "ipython3",
   "version": "3.8.3"
  }
 },
 "nbformat": 4,
 "nbformat_minor": 2
}
