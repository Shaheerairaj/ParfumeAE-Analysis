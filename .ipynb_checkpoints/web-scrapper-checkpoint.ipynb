{
 "cells": [
  {
   "cell_type": "code",
   "execution_count": 1,
   "metadata": {},
   "outputs": [],
   "source": [
    "import os\n",
    "import pandas as pd\n",
    "import requests\n",
    "import bs4\n",
    "import lxml\n",
    "import functions.web_scrapper_functions as scrpr\n",
    "import mysql.connector\n",
    "import json\n",
    "import uuid\n",
    "import datetime\n",
    "\n",
    "import logging\n",
    "import warnings\n",
    "warnings.filterwarnings(\"ignore\")\n",
    "\n",
    "logging.basicConfig(filename='Parfum AE Web Scrapper Log.log', level=logging.INFO,\n",
    "format='%(asctime)s:%(levelname)s:%(message)s')"
   ]
  },
  {
   "cell_type": "code",
   "execution_count": 2,
   "metadata": {},
   "outputs": [
    {
     "name": "stdout",
     "output_type": "stream",
     "text": [
      "Available fragrance types: \n",
      " dict_keys(['Body Mist', 'Car Perfume Diffuser', 'Perfume Oils', 'Our Creations', 'Dahn Al Oud', 'Interior Perfume', 'Musk Oil', 'Perfume Reed Diffuser'])\n"
     ]
    }
   ],
   "source": [
    "frag_type_dict = scrpr.get_frag_types()\n",
    "print(\"Available fragrance types: \\n\", frag_type_dict.keys())"
   ]
  },
  {
   "cell_type": "code",
   "execution_count": 150,
   "metadata": {},
   "outputs": [
    {
     "name": "stdout",
     "output_type": "stream",
     "text": [
      "Currently scrapping  Body Mist\n",
      "Number of products:  313\n",
      "Currently scrapping  Car Perfume Diffuser\n",
      "Number of products:  5\n",
      "Currently scrapping  Perfume Oils\n",
      "Number of products:  362\n",
      "Currently scrapping  Our Creations\n",
      "Number of products:  762\n",
      "Currently scrapping  Dahn Al Oud\n",
      "Number of products:  16\n",
      "Currently scrapping  Interior Perfume\n",
      "Number of products:  294\n",
      "Currently scrapping  Musk Oil\n",
      "Number of products:  10\n",
      "Currently scrapping  Perfume Reed Diffuser\n",
      "Number of products:  245\n"
     ]
    }
   ],
   "source": [
    "prod_list_dict = {}\n",
    "\n",
    "for key, val in frag_type_dict.items():\n",
    "    try:\n",
    "        print('Currently scrapping ', key)\n",
    "        prod_list_dict[key] = scrpr.prod_list(val)\n",
    "        print('Number of products: ', len(prod_list_dict[key]))\n",
    "    except:\n",
    "        print(\"Error in \", key)"
   ]
  },
  {
   "cell_type": "code",
   "execution_count": 198,
   "metadata": {},
   "outputs": [],
   "source": []
  },
  {
   "cell_type": "code",
   "execution_count": null,
   "metadata": {},
   "outputs": [],
   "source": []
  },
  {
   "cell_type": "code",
   "execution_count": null,
   "metadata": {},
   "outputs": [],
   "source": []
  },
  {
   "cell_type": "code",
   "execution_count": null,
   "metadata": {},
   "outputs": [],
   "source": []
  },
  {
   "cell_type": "code",
   "execution_count": null,
   "metadata": {},
   "outputs": [],
   "source": []
  },
  {
   "cell_type": "code",
   "execution_count": null,
   "metadata": {},
   "outputs": [],
   "source": []
  },
  {
   "cell_type": "code",
   "execution_count": null,
   "metadata": {},
   "outputs": [],
   "source": []
  },
  {
   "cell_type": "code",
   "execution_count": null,
   "metadata": {},
   "outputs": [],
   "source": []
  },
  {
   "cell_type": "code",
   "execution_count": null,
   "metadata": {},
   "outputs": [],
   "source": []
  },
  {
   "cell_type": "code",
   "execution_count": null,
   "metadata": {},
   "outputs": [],
   "source": []
  },
  {
   "cell_type": "code",
   "execution_count": 40,
   "metadata": {},
   "outputs": [],
   "source": [
    "from selenium import webdriver\n",
    "from selenium.webdriver.common.by import By\n",
    "from selenium.webdriver.support.ui import WebDriverWait\n",
    "from selenium.webdriver.support import expected_conditions as EC\n",
    "from bs4 import BeautifulSoup\n",
    "\n",
    "# Initialize the web driver (make sure you have the appropriate driver installed)\n",
    "driver = webdriver.Chrome()\n",
    "url = \"https://www.parfum.ae/lv-imagination-body-mist/\"\n",
    "driver.get(url)\n",
    "\n",
    "# Click the tab you want (e.g., \"Specification\" tab)\n",
    "tab_selector = driver.find_element(By.ID, \"tab-review-tab\")\n",
    "tab_selector.click()\n",
    "\n",
    "# Wait for the dynamic content to load (adjust the timeout as needed)\n",
    "wait = WebDriverWait(driver, 10)\n",
    "element = wait.until(EC.presence_of_element_located((By.ID, \"tab-review\")))\n",
    "\n",
    "# Extract data from the selected tab\n",
    "page_content = driver.page_source\n",
    "soup = BeautifulSoup(page_content, \"lxml\")\n",
    "\n",
    "# Now, you can use BeautifulSoup to parse the content of the selected tab\n",
    "# For example: data = soup.find(\"element selector\").text\n",
    "\n",
    "# Close the web driver when you're done\n",
    "driver.quit()\n"
   ]
  },
  {
   "cell_type": "code",
   "execution_count": 41,
   "metadata": {},
   "outputs": [
    {
     "data": {
      "text/plain": [
       "[<p>Omg! I’m glad I bought this perfume! It actually smells like the LV imagination. I have the original LV but don’t want to use it all the time as it’s quiet pricey. So thanks God for the this dupe! Definitely will order more. Highly recommended </p>]"
      ]
     },
     "execution_count": 41,
     "metadata": {},
     "output_type": "execute_result"
    }
   ],
   "source": [
    "soup.select(\"div#review\")[0].select(\"p\")"
   ]
  },
  {
   "cell_type": "code",
   "execution_count": null,
   "metadata": {},
   "outputs": [],
   "source": []
  },
  {
   "cell_type": "code",
   "execution_count": null,
   "metadata": {},
   "outputs": [],
   "source": []
  },
  {
   "cell_type": "code",
   "execution_count": null,
   "metadata": {},
   "outputs": [],
   "source": []
  },
  {
   "cell_type": "code",
   "execution_count": null,
   "metadata": {},
   "outputs": [],
   "source": []
  },
  {
   "cell_type": "code",
   "execution_count": null,
   "metadata": {},
   "outputs": [],
   "source": []
  },
  {
   "cell_type": "code",
   "execution_count": null,
   "metadata": {},
   "outputs": [],
   "source": [
    "conn = mysql.connector.connect(\n",
    "    host = \"localhost\",\n",
    "    user = os.environ.get(\"MYSQL_USERNAME\"),\n",
    "    password = os.environ.get(\"MYSQL_PASSWORD\"),\n",
    "    database = \"parfumae_products\"\n",
    ")\n",
    "\n",
    "cursor = conn.cursor()"
   ]
  },
  {
   "cell_type": "code",
   "execution_count": null,
   "metadata": {},
   "outputs": [],
   "source": [
    "\n",
    "try:\n",
    "    for key, val in frag_type_dict.items():\n",
    "        serialized_value = json.dumps(val)\n",
    "\n",
    "        insert_query = \"INSERT INTO fragrance_types (name, url) VALUES (%s, %s)\"\n",
    "        cursor.execute(insert_query, (key, serialized_value))\n",
    "    \n",
    "    conn.commit()\n",
    "\n",
    "except mysql.connector.Error as err:\n",
    "    print(f\"Error: {err}\")\n",
    "    conn.rollback()\n",
    "\n",
    "cursor.close()\n",
    "conn.close()"
   ]
  }
 ],
 "metadata": {
  "kernelspec": {
   "display_name": "Python 3 (ipykernel)",
   "language": "python",
   "name": "python3"
  },
  "language_info": {
   "codemirror_mode": {
    "name": "ipython",
    "version": 3
   },
   "file_extension": ".py",
   "mimetype": "text/x-python",
   "name": "python",
   "nbconvert_exporter": "python",
   "pygments_lexer": "ipython3",
   "version": "3.8.3"
  }
 },
 "nbformat": 4,
 "nbformat_minor": 4
}
