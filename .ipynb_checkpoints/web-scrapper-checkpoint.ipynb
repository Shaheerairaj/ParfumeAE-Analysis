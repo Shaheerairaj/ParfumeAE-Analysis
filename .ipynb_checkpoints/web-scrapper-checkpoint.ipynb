{
 "cells": [
  {
   "cell_type": "code",
   "execution_count": 1,
   "metadata": {},
   "outputs": [],
   "source": [
    "import os\n",
    "import pandas as pd\n",
    "import requests\n",
    "import bs4\n",
    "import lxml\n",
    "import functions.web_scrapper_functions as scrpr\n",
    "import mysql.connector\n",
    "import json\n",
    "import datetime\n",
    "\n",
    "from selenium import webdriver\n",
    "from selenium.webdriver.common.by import By\n",
    "from selenium.webdriver.support.ui import WebDriverWait\n",
    "from selenium.webdriver.support import expected_conditions as EC\n",
    "\n",
    "import logging\n",
    "import warnings\n",
    "warnings.filterwarnings(\"ignore\")\n",
    "\n",
    "logging.basicConfig(filename='Parfum AE Web Scrapper Log.log', level=logging.INFO,\n",
    "format='%(asctime)s:%(levelname)s:%(message)s')"
   ]
  },
  {
   "cell_type": "code",
   "execution_count": 2,
   "metadata": {},
   "outputs": [
    {
     "name": "stdout",
     "output_type": "stream",
     "text": [
      "Available fragrance types: \n",
      " dict_keys(['Body Mist', 'Car Perfume Diffuser', 'Perfume Oils', 'Our Creations', 'Dahn Al Oud', 'Interior Perfume', 'Musk Oil', 'Perfume Reed Diffuser'])\n"
     ]
    }
   ],
   "source": [
    "frag_type_dict = scrpr.get_frag_types()\n",
    "print(\"Available fragrance types: \\n\", frag_type_dict.keys())"
   ]
  },
  {
   "cell_type": "code",
   "execution_count": 4,
   "metadata": {
    "scrolled": true
   },
   "outputs": [
    {
     "name": "stderr",
     "output_type": "stream",
     "text": [
      "--- Logging error ---\n",
      "Traceback (most recent call last):\n",
      "  File \"C:\\ProgramData\\Anaconda3\\lib\\logging\\__init__.py\", line 1081, in emit\n",
      "    msg = self.format(record)\n",
      "  File \"C:\\ProgramData\\Anaconda3\\lib\\logging\\__init__.py\", line 925, in format\n",
      "    return fmt.format(record)\n",
      "  File \"C:\\ProgramData\\Anaconda3\\lib\\logging\\__init__.py\", line 664, in format\n",
      "    record.message = record.getMessage()\n",
      "  File \"C:\\ProgramData\\Anaconda3\\lib\\logging\\__init__.py\", line 369, in getMessage\n",
      "    msg = msg % self.args\n",
      "TypeError: not all arguments converted during string formatting\n",
      "Call stack:\n",
      "  File \"C:\\ProgramData\\Anaconda3\\lib\\runpy.py\", line 194, in _run_module_as_main\n",
      "    return _run_code(code, main_globals, None,\n",
      "  File \"C:\\ProgramData\\Anaconda3\\lib\\runpy.py\", line 87, in _run_code\n",
      "    exec(code, run_globals)\n",
      "  File \"c:\\users\\shahe\\onedrive\\documents\\projects\\project 4 - parfum.ae analysis\\parfumaeproject\\lib\\site-packages\\ipykernel_launcher.py\", line 17, in <module>\n",
      "    app.launch_new_instance()\n",
      "  File \"c:\\users\\shahe\\onedrive\\documents\\projects\\project 4 - parfum.ae analysis\\parfumaeproject\\lib\\site-packages\\traitlets\\config\\application.py\", line 1053, in launch_instance\n",
      "    app.start()\n",
      "  File \"c:\\users\\shahe\\onedrive\\documents\\projects\\project 4 - parfum.ae analysis\\parfumaeproject\\lib\\site-packages\\ipykernel\\kernelapp.py\", line 736, in start\n",
      "    self.io_loop.start()\n",
      "  File \"c:\\users\\shahe\\onedrive\\documents\\projects\\project 4 - parfum.ae analysis\\parfumaeproject\\lib\\site-packages\\tornado\\platform\\asyncio.py\", line 195, in start\n",
      "    self.asyncio_loop.run_forever()\n",
      "  File \"C:\\ProgramData\\Anaconda3\\lib\\asyncio\\base_events.py\", line 570, in run_forever\n",
      "    self._run_once()\n",
      "  File \"C:\\ProgramData\\Anaconda3\\lib\\asyncio\\base_events.py\", line 1859, in _run_once\n",
      "    handle._run()\n",
      "  File \"C:\\ProgramData\\Anaconda3\\lib\\asyncio\\events.py\", line 81, in _run\n",
      "    self._context.run(self._callback, *self._args)\n",
      "  File \"c:\\users\\shahe\\onedrive\\documents\\projects\\project 4 - parfum.ae analysis\\parfumaeproject\\lib\\site-packages\\ipykernel\\kernelbase.py\", line 516, in dispatch_queue\n",
      "    await self.process_one()\n",
      "  File \"c:\\users\\shahe\\onedrive\\documents\\projects\\project 4 - parfum.ae analysis\\parfumaeproject\\lib\\site-packages\\ipykernel\\kernelbase.py\", line 505, in process_one\n",
      "    await dispatch(*args)\n",
      "  File \"c:\\users\\shahe\\onedrive\\documents\\projects\\project 4 - parfum.ae analysis\\parfumaeproject\\lib\\site-packages\\ipykernel\\kernelbase.py\", line 412, in dispatch_shell\n",
      "    await result\n",
      "  File \"c:\\users\\shahe\\onedrive\\documents\\projects\\project 4 - parfum.ae analysis\\parfumaeproject\\lib\\site-packages\\ipykernel\\kernelbase.py\", line 740, in execute_request\n",
      "    reply_content = await reply_content\n",
      "  File \"c:\\users\\shahe\\onedrive\\documents\\projects\\project 4 - parfum.ae analysis\\parfumaeproject\\lib\\site-packages\\ipykernel\\ipkernel.py\", line 422, in do_execute\n",
      "    res = shell.run_cell(\n",
      "  File \"c:\\users\\shahe\\onedrive\\documents\\projects\\project 4 - parfum.ae analysis\\parfumaeproject\\lib\\site-packages\\ipykernel\\zmqshell.py\", line 546, in run_cell\n",
      "    return super().run_cell(*args, **kwargs)\n",
      "  File \"c:\\users\\shahe\\onedrive\\documents\\projects\\project 4 - parfum.ae analysis\\parfumaeproject\\lib\\site-packages\\IPython\\core\\interactiveshell.py\", line 3009, in run_cell\n",
      "    result = self._run_cell(\n",
      "  File \"c:\\users\\shahe\\onedrive\\documents\\projects\\project 4 - parfum.ae analysis\\parfumaeproject\\lib\\site-packages\\IPython\\core\\interactiveshell.py\", line 3064, in _run_cell\n",
      "    result = runner(coro)\n",
      "  File \"c:\\users\\shahe\\onedrive\\documents\\projects\\project 4 - parfum.ae analysis\\parfumaeproject\\lib\\site-packages\\IPython\\core\\async_helpers.py\", line 129, in _pseudo_sync_runner\n",
      "    coro.send(None)\n",
      "  File \"c:\\users\\shahe\\onedrive\\documents\\projects\\project 4 - parfum.ae analysis\\parfumaeproject\\lib\\site-packages\\IPython\\core\\interactiveshell.py\", line 3269, in run_cell_async\n",
      "    has_raised = await self.run_ast_nodes(code_ast.body, cell_name,\n",
      "  File \"c:\\users\\shahe\\onedrive\\documents\\projects\\project 4 - parfum.ae analysis\\parfumaeproject\\lib\\site-packages\\IPython\\core\\interactiveshell.py\", line 3448, in run_ast_nodes\n",
      "    if await self.run_code(code, result, async_=asy):\n",
      "  File \"c:\\users\\shahe\\onedrive\\documents\\projects\\project 4 - parfum.ae analysis\\parfumaeproject\\lib\\site-packages\\IPython\\core\\interactiveshell.py\", line 3508, in run_code\n",
      "    exec(code_obj, self.user_global_ns, self.user_ns)\n",
      "  File \"C:\\Users\\shahe\\AppData\\Local\\Temp\\ipykernel_21140\\3414158004.py\", line 6, in <module>\n",
      "    logging.info('Currently scrapping ', key)\n",
      "Message: 'Currently scrapping '\n",
      "Arguments: ('Dahn Al Oud',)\n",
      "--- Logging error ---\n",
      "Traceback (most recent call last):\n",
      "  File \"C:\\ProgramData\\Anaconda3\\lib\\logging\\__init__.py\", line 1081, in emit\n",
      "    msg = self.format(record)\n",
      "  File \"C:\\ProgramData\\Anaconda3\\lib\\logging\\__init__.py\", line 925, in format\n",
      "    return fmt.format(record)\n",
      "  File \"C:\\ProgramData\\Anaconda3\\lib\\logging\\__init__.py\", line 664, in format\n",
      "    record.message = record.getMessage()\n",
      "  File \"C:\\ProgramData\\Anaconda3\\lib\\logging\\__init__.py\", line 369, in getMessage\n",
      "    msg = msg % self.args\n",
      "TypeError: not all arguments converted during string formatting\n",
      "Call stack:\n",
      "  File \"C:\\ProgramData\\Anaconda3\\lib\\runpy.py\", line 194, in _run_module_as_main\n",
      "    return _run_code(code, main_globals, None,\n",
      "  File \"C:\\ProgramData\\Anaconda3\\lib\\runpy.py\", line 87, in _run_code\n",
      "    exec(code, run_globals)\n",
      "  File \"c:\\users\\shahe\\onedrive\\documents\\projects\\project 4 - parfum.ae analysis\\parfumaeproject\\lib\\site-packages\\ipykernel_launcher.py\", line 17, in <module>\n",
      "    app.launch_new_instance()\n",
      "  File \"c:\\users\\shahe\\onedrive\\documents\\projects\\project 4 - parfum.ae analysis\\parfumaeproject\\lib\\site-packages\\traitlets\\config\\application.py\", line 1053, in launch_instance\n",
      "    app.start()\n",
      "  File \"c:\\users\\shahe\\onedrive\\documents\\projects\\project 4 - parfum.ae analysis\\parfumaeproject\\lib\\site-packages\\ipykernel\\kernelapp.py\", line 736, in start\n",
      "    self.io_loop.start()\n",
      "  File \"c:\\users\\shahe\\onedrive\\documents\\projects\\project 4 - parfum.ae analysis\\parfumaeproject\\lib\\site-packages\\tornado\\platform\\asyncio.py\", line 195, in start\n",
      "    self.asyncio_loop.run_forever()\n",
      "  File \"C:\\ProgramData\\Anaconda3\\lib\\asyncio\\base_events.py\", line 570, in run_forever\n",
      "    self._run_once()\n",
      "  File \"C:\\ProgramData\\Anaconda3\\lib\\asyncio\\base_events.py\", line 1859, in _run_once\n",
      "    handle._run()\n",
      "  File \"C:\\ProgramData\\Anaconda3\\lib\\asyncio\\events.py\", line 81, in _run\n",
      "    self._context.run(self._callback, *self._args)\n",
      "  File \"c:\\users\\shahe\\onedrive\\documents\\projects\\project 4 - parfum.ae analysis\\parfumaeproject\\lib\\site-packages\\ipykernel\\kernelbase.py\", line 516, in dispatch_queue\n",
      "    await self.process_one()\n",
      "  File \"c:\\users\\shahe\\onedrive\\documents\\projects\\project 4 - parfum.ae analysis\\parfumaeproject\\lib\\site-packages\\ipykernel\\kernelbase.py\", line 505, in process_one\n",
      "    await dispatch(*args)\n",
      "  File \"c:\\users\\shahe\\onedrive\\documents\\projects\\project 4 - parfum.ae analysis\\parfumaeproject\\lib\\site-packages\\ipykernel\\kernelbase.py\", line 412, in dispatch_shell\n",
      "    await result\n",
      "  File \"c:\\users\\shahe\\onedrive\\documents\\projects\\project 4 - parfum.ae analysis\\parfumaeproject\\lib\\site-packages\\ipykernel\\kernelbase.py\", line 740, in execute_request\n",
      "    reply_content = await reply_content\n",
      "  File \"c:\\users\\shahe\\onedrive\\documents\\projects\\project 4 - parfum.ae analysis\\parfumaeproject\\lib\\site-packages\\ipykernel\\ipkernel.py\", line 422, in do_execute\n",
      "    res = shell.run_cell(\n",
      "  File \"c:\\users\\shahe\\onedrive\\documents\\projects\\project 4 - parfum.ae analysis\\parfumaeproject\\lib\\site-packages\\ipykernel\\zmqshell.py\", line 546, in run_cell\n",
      "    return super().run_cell(*args, **kwargs)\n",
      "  File \"c:\\users\\shahe\\onedrive\\documents\\projects\\project 4 - parfum.ae analysis\\parfumaeproject\\lib\\site-packages\\IPython\\core\\interactiveshell.py\", line 3009, in run_cell\n",
      "    result = self._run_cell(\n",
      "  File \"c:\\users\\shahe\\onedrive\\documents\\projects\\project 4 - parfum.ae analysis\\parfumaeproject\\lib\\site-packages\\IPython\\core\\interactiveshell.py\", line 3064, in _run_cell\n",
      "    result = runner(coro)\n",
      "  File \"c:\\users\\shahe\\onedrive\\documents\\projects\\project 4 - parfum.ae analysis\\parfumaeproject\\lib\\site-packages\\IPython\\core\\async_helpers.py\", line 129, in _pseudo_sync_runner\n",
      "    coro.send(None)\n",
      "  File \"c:\\users\\shahe\\onedrive\\documents\\projects\\project 4 - parfum.ae analysis\\parfumaeproject\\lib\\site-packages\\IPython\\core\\interactiveshell.py\", line 3269, in run_cell_async\n",
      "    has_raised = await self.run_ast_nodes(code_ast.body, cell_name,\n",
      "  File \"c:\\users\\shahe\\onedrive\\documents\\projects\\project 4 - parfum.ae analysis\\parfumaeproject\\lib\\site-packages\\IPython\\core\\interactiveshell.py\", line 3448, in run_ast_nodes\n",
      "    if await self.run_code(code, result, async_=asy):\n",
      "  File \"c:\\users\\shahe\\onedrive\\documents\\projects\\project 4 - parfum.ae analysis\\parfumaeproject\\lib\\site-packages\\IPython\\core\\interactiveshell.py\", line 3508, in run_code\n",
      "    exec(code_obj, self.user_global_ns, self.user_ns)\n",
      "  File \"C:\\Users\\shahe\\AppData\\Local\\Temp\\ipykernel_21140\\3414158004.py\", line 8, in <module>\n",
      "    logging.info('Number of products: ', len(prod_list_dict[key]))\n",
      "Message: 'Number of products: '\n",
      "Arguments: (16,)\n"
     ]
    }
   ],
   "source": [
    "prod_list_dict = {}\n",
    "start_time = datetime.datetime.now()\n",
    "\n",
    "for key, val in frag_type_dict.items():\n",
    "    try:\n",
    "        logging.info('Currently scrapping ', key)\n",
    "        prod_list_dict[key] = scrpr.prod_list(val)\n",
    "        logging.info('Number of products: ', len(prod_list_dict[key]))\n",
    "    except:\n",
    "        logging.error(\"Error in \", key)\n",
    "end_time = datetime.datetime.now()\n",
    "time_taken = end_time - start_time\n",
    "logging.info(f\"Time taken to retrieve list of all products: {time_taken}\")"
   ]
  },
  {
   "cell_type": "code",
   "execution_count": 5,
   "metadata": {
    "scrolled": true
   },
   "outputs": [],
   "source": [
    "start_time = datetime.datetime.now()\n",
    "products = scrpr.prod_info(prod_list_dict)\n",
    "end_time = datetime.datetime.now()\n",
    "time_taken = end_time - start_time\n",
    "logging.info(f\"Time taken to retrieve information for each product: {time_taken}\")"
   ]
  },
  {
   "cell_type": "code",
   "execution_count": 11,
   "metadata": {},
   "outputs": [
    {
     "data": {
      "text/plain": [
       "{'Oud Cambodi Synthetic': {'id': '1094',\n",
       "  'name': 'Oud Cambodi Synthetic',\n",
       "  'stars': 5,\n",
       "  'reviews': [['Sabrina ',\n",
       "    'Actually I like it this product good job team Parfum.ae',\n",
       "    5],\n",
       "   ['Abden', 'Good Product', 4],\n",
       "   ['noor  Almazrouei', 'Really its very good and good for summer! ', 5],\n",
       "   ['liyaan',\n",
       "    \"This is exactly what I was looking for. Crisp, clean, woody, bitter and medicinal with the slightly cool mintiness. This has set the bar for me personally and is the scent of kyara I\\\\'ve heard described and knew I had to try. development on the skin is divine. Probably best not to use before bed, it\\\\'s strong! No idea how the price is so reasonable, baffles me. I know I\\\\'ll be searching for a long time for something cultivated and dirt cheap that smells like this so I can slather it on daily. \",\n",
       "    5],\n",
       "   ['Rufat Abdullayev',\n",
       "    'A fabulous Oud oil, thick like honey, among the best agarwoody perfumes ',\n",
       "    5],\n",
       "   ['AbdRakhman ', 'Strong citrus in the opening and smokey vanilla. ', 5],\n",
       "   ['Bashir Almanea',\n",
       "    'These are the richest fragrances I ever had. Customer service was outstanding!',\n",
       "    5],\n",
       "   ['Alireza Hooman',\n",
       "    'انصح فيه الصراحة جودة عالية على هل سعر و سرعة في التوصيل',\n",
       "    5]],\n",
       "  'price': 120.0,\n",
       "  'hot': False},\n",
       " 'Oud Suyufi Synthetic': {'id': '1108',\n",
       "  'name': 'Oud Suyufi Synthetic',\n",
       "  'stars': 5,\n",
       "  'reviews': [['Mushtaq Ahmed',\n",
       "    'I purchased the sample and will be purchasing more.  Really amazing fragrance and happy with purchase. ',\n",
       "    4],\n",
       "   ['Gulam hasan',\n",
       "    'Just as described and perfect! Thank you!! It also arrived very quickly considering it was from the U.A.E to Saudi Arabia! Happy customer. ',\n",
       "    5]],\n",
       "  'price': 120.0,\n",
       "  'hot': False},\n",
       " 'Oud Hindi Sweety Synthetic': {'id': '1090',\n",
       "  'name': 'Oud Hindi Sweety Synthetic',\n",
       "  'stars': 5,\n",
       "  'reviews': [['Rose ', 'من افضل ما جربت رائحته قوية اعجبني و سعره حلو ', 5]],\n",
       "  'price': 120.0,\n",
       "  'hot': False},\n",
       " 'Zafran Oud Synthetic': {'id': '1105',\n",
       "  'name': 'Zafran Oud Synthetic',\n",
       "  'stars': 5,\n",
       "  'reviews': [['Trisa ',\n",
       "    'منتج اكثر من رائع تفوح منه رائحة الزعفران الحلوة ',\n",
       "    5]],\n",
       "  'price': 55.0,\n",
       "  'hot': False},\n",
       " 'Bulgari Gulab Synthetic': {'id': '1100',\n",
       "  'name': 'Bulgari Gulab Synthetic',\n",
       "  'stars': 5,\n",
       "  'reviews': [],\n",
       "  'price': 95.0,\n",
       "  'hot': False},\n",
       " 'Oud Turabi Synthetic': {'id': '1095',\n",
       "  'name': 'Oud Turabi Synthetic',\n",
       "  'stars': 5,\n",
       "  'reviews': [],\n",
       "  'price': 125.0,\n",
       "  'hot': False},\n",
       " 'Oud Laosi': {'id': '1109',\n",
       "  'name': 'Oud Laosi',\n",
       "  'stars': 5,\n",
       "  'reviews': [],\n",
       "  'price': 130.0,\n",
       "  'hot': False},\n",
       " 'Oud Muataq / Qadeem Synthetic': {'id': '1101',\n",
       "  'name': 'Oud Muataq / Qadeem Synthetic',\n",
       "  'stars': 5,\n",
       "  'reviews': [],\n",
       "  'price': 185.0,\n",
       "  'hot': False},\n",
       " 'Black Oud Synthetic': {'id': '1096',\n",
       "  'name': 'Black Oud Synthetic',\n",
       "  'stars': 5,\n",
       "  'reviews': [],\n",
       "  'price': 100.0,\n",
       "  'hot': False},\n",
       " 'Oud Bormi Synthetic': {'id': '1091',\n",
       "  'name': 'Oud Bormi Synthetic',\n",
       "  'stars': 5,\n",
       "  'reviews': [],\n",
       "  'price': 130.0,\n",
       "  'hot': False},\n",
       " 'Oud Khalifa Synthetic': {'id': '4116',\n",
       "  'name': 'Oud Khalifa Synthetic',\n",
       "  'stars': 5,\n",
       "  'reviews': [],\n",
       "  'price': 120.0,\n",
       "  'hot': False},\n",
       " 'Oud Assami Synthetic': {'id': '1103',\n",
       "  'name': 'Oud Assami Synthetic',\n",
       "  'stars': 5,\n",
       "  'reviews': [],\n",
       "  'price': 110.0,\n",
       "  'hot': False},\n",
       " 'Oud Khas Synthetic': {'id': '1097',\n",
       "  'name': 'Oud Khas Synthetic',\n",
       "  'stars': 5,\n",
       "  'reviews': [],\n",
       "  'price': 150.0,\n",
       "  'hot': False},\n",
       " 'White Oud Synthetic': {'id': '1092',\n",
       "  'name': 'White Oud Synthetic',\n",
       "  'stars': 5,\n",
       "  'reviews': [],\n",
       "  'price': 70.0,\n",
       "  'hot': False},\n",
       " 'Oud Trad Honey Synthetic': {'id': '1098',\n",
       "  'name': 'Oud Trad Honey Synthetic',\n",
       "  'stars': 5,\n",
       "  'reviews': [],\n",
       "  'price': 110.0,\n",
       "  'hot': False},\n",
       " 'White Oud Super Synthetic': {'id': '1093',\n",
       "  'name': 'White Oud Super Synthetic',\n",
       "  'stars': 5,\n",
       "  'reviews': [],\n",
       "  'price': 110.0,\n",
       "  'hot': False}}"
      ]
     },
     "execution_count": 11,
     "metadata": {},
     "output_type": "execute_result"
    }
   ],
   "source": [
    "products"
   ]
  },
  {
   "cell_type": "code",
   "execution_count": null,
   "metadata": {},
   "outputs": [],
   "source": []
  },
  {
   "cell_type": "code",
   "execution_count": null,
   "metadata": {},
   "outputs": [],
   "source": []
  },
  {
   "cell_type": "code",
   "execution_count": null,
   "metadata": {},
   "outputs": [],
   "source": []
  },
  {
   "cell_type": "code",
   "execution_count": null,
   "metadata": {},
   "outputs": [],
   "source": []
  },
  {
   "cell_type": "code",
   "execution_count": null,
   "metadata": {},
   "outputs": [],
   "source": []
  },
  {
   "cell_type": "code",
   "execution_count": 34,
   "metadata": {},
   "outputs": [
    {
     "data": {
      "text/plain": [
       "{'Sabrina ': 'Actually I like it this product good job team Parfum.ae',\n",
       " 'Abden': 'Good Product',\n",
       " 'noor  Almazrouei': 'Really its very good and good for summer! ',\n",
       " 'liyaan': \"This is exactly what I was looking for. Crisp, clean, woody, bitter and medicinal with the slightly cool mintiness. This has set the bar for me personally and is the scent of kyara I\\\\'ve heard described and knew I had to try. development on the skin is divine. Probably best not to use before bed, it\\\\'s strong! No idea how the price is so reasonable, baffles me. I know I\\\\'ll be searching for a long time for something cultivated and dirt cheap that smells like this so I can slather it on daily. \",\n",
       " 'Rufat Abdullayev': 'A fabulous Oud oil, thick like honey, among the best agarwoody perfumes '}"
      ]
     },
     "execution_count": 34,
     "metadata": {},
     "output_type": "execute_result"
    }
   ],
   "source": [
    "reviews"
   ]
  },
  {
   "cell_type": "code",
   "execution_count": 36,
   "metadata": {},
   "outputs": [
    {
     "data": {
      "text/plain": [
       "[{'Sabrina ': 'Actually I like it this product good job team Parfum.ae'},\n",
       " {'Abden': 'Good Product'},\n",
       " {'noor  Almazrouei': 'Really its very good and good for summer! '},\n",
       " {'liyaan': \"This is exactly what I was looking for. Crisp, clean, woody, bitter and medicinal with the slightly cool mintiness. This has set the bar for me personally and is the scent of kyara I\\\\'ve heard described and knew I had to try. development on the skin is divine. Probably best not to use before bed, it\\\\'s strong! No idea how the price is so reasonable, baffles me. I know I\\\\'ll be searching for a long time for something cultivated and dirt cheap that smells like this so I can slather it on daily. \"},\n",
       " {'Rufat Abdullayev': 'A fabulous Oud oil, thick like honey, among the best agarwoody perfumes '}]"
      ]
     },
     "execution_count": 36,
     "metadata": {},
     "output_type": "execute_result"
    }
   ],
   "source": [
    "product_reviews('https://www.parfum.ae/oud-cambodi-synthetic/')"
   ]
  },
  {
   "cell_type": "code",
   "execution_count": null,
   "metadata": {},
   "outputs": [],
   "source": []
  },
  {
   "cell_type": "code",
   "execution_count": null,
   "metadata": {},
   "outputs": [],
   "source": []
  },
  {
   "cell_type": "code",
   "execution_count": null,
   "metadata": {},
   "outputs": [],
   "source": []
  },
  {
   "cell_type": "code",
   "execution_count": null,
   "metadata": {},
   "outputs": [],
   "source": []
  },
  {
   "cell_type": "code",
   "execution_count": null,
   "metadata": {},
   "outputs": [],
   "source": []
  },
  {
   "cell_type": "code",
   "execution_count": null,
   "metadata": {},
   "outputs": [],
   "source": []
  },
  {
   "cell_type": "code",
   "execution_count": null,
   "metadata": {},
   "outputs": [],
   "source": []
  },
  {
   "cell_type": "code",
   "execution_count": null,
   "metadata": {},
   "outputs": [],
   "source": [
    "conn = mysql.connector.connect(\n",
    "    host = \"localhost\",\n",
    "    user = os.environ.get(\"MYSQL_USERNAME\"),\n",
    "    password = os.environ.get(\"MYSQL_PASSWORD\"),\n",
    "    database = \"parfumae_products\"\n",
    ")\n",
    "\n",
    "cursor = conn.cursor()"
   ]
  },
  {
   "cell_type": "code",
   "execution_count": null,
   "metadata": {},
   "outputs": [],
   "source": [
    "\n",
    "try:\n",
    "    for key, val in frag_type_dict.items():\n",
    "        serialized_value = json.dumps(val)\n",
    "\n",
    "        insert_query = \"INSERT INTO fragrance_types (name, url) VALUES (%s, %s)\"\n",
    "        cursor.execute(insert_query, (key, serialized_value))\n",
    "    \n",
    "    conn.commit()\n",
    "\n",
    "except mysql.connector.Error as err:\n",
    "    print(f\"Error: {err}\")\n",
    "    conn.rollback()\n",
    "\n",
    "cursor.close()\n",
    "conn.close()"
   ]
  }
 ],
 "metadata": {
  "kernelspec": {
   "display_name": "Python 3 (ipykernel)",
   "language": "python",
   "name": "python3"
  },
  "language_info": {
   "codemirror_mode": {
    "name": "ipython",
    "version": 3
   },
   "file_extension": ".py",
   "mimetype": "text/x-python",
   "name": "python",
   "nbconvert_exporter": "python",
   "pygments_lexer": "ipython3",
   "version": "3.8.3"
  }
 },
 "nbformat": 4,
 "nbformat_minor": 4
}
