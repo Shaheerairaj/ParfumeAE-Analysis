{
 "cells": [
  {
   "cell_type": "code",
   "execution_count": 1,
   "metadata": {},
   "outputs": [],
   "source": [
    "import os\n",
    "import pandas as pd\n",
    "import requests\n",
    "import bs4\n",
    "import lxml\n",
    "import functions.web_scrapper_functions as scrpr\n",
    "import mysql.connector\n",
    "import json\n",
    "import uuid\n",
    "import datetime\n",
    "\n",
    "import logging\n",
    "import warnings\n",
    "warnings.filterwarnings(\"ignore\")\n",
    "\n",
    "logging.basicConfig(filename='Parfum AE Web Scrapper Log.log', level=logging.INFO,\n",
    "format='%(asctime)s:%(levelname)s:%(message)s')"
   ]
  },
  {
   "cell_type": "code",
   "execution_count": 2,
   "metadata": {},
   "outputs": [
    {
     "name": "stdout",
     "output_type": "stream",
     "text": [
      "Available fragrance types: \n",
      " dict_keys(['Body Mist', 'Car Perfume Diffuser', 'Perfume Oils', 'Our Creations', 'Dahn Al Oud', 'Interior Perfume', 'Musk Oil', 'Perfume Reed Diffuser'])\n"
     ]
    }
   ],
   "source": [
    "frag_type_dict = scrpr.get_frag_types()\n",
    "print(\"Available fragrance types: \\n\", frag_type_dict.keys())"
   ]
  },
  {
   "cell_type": "code",
   "execution_count": 150,
   "metadata": {},
   "outputs": [
    {
     "name": "stdout",
     "output_type": "stream",
     "text": [
      "Currently scrapping  Body Mist\n",
      "Number of products:  313\n",
      "Currently scrapping  Car Perfume Diffuser\n",
      "Number of products:  5\n",
      "Currently scrapping  Perfume Oils\n",
      "Number of products:  362\n",
      "Currently scrapping  Our Creations\n",
      "Number of products:  762\n",
      "Currently scrapping  Dahn Al Oud\n",
      "Number of products:  16\n",
      "Currently scrapping  Interior Perfume\n",
      "Number of products:  294\n",
      "Currently scrapping  Musk Oil\n",
      "Number of products:  10\n",
      "Currently scrapping  Perfume Reed Diffuser\n",
      "Number of products:  245\n"
     ]
    }
   ],
   "source": [
    "prod_list_dict = {}\n",
    "\n",
    "for key, val in frag_type_dict.items():\n",
    "    try:\n",
    "        print('Currently scrapping ', key)\n",
    "        prod_list_dict[key] = scrpr.prod_list(val)\n",
    "        print('Number of products: ', len(prod_list_dict[key]))\n",
    "    except:\n",
    "        print(\"Error in \", key)"
   ]
  },
  {
   "cell_type": "code",
   "execution_count": 180,
   "metadata": {},
   "outputs": [],
   "source": [
    "r = requests.get(\"https://www.parfum.ae/oud-cambodi-synthetic/\")\n",
    "s = bs4.BeautifulSoup(r.content, 'lxml')"
   ]
  },
  {
   "cell_type": "code",
   "execution_count": 184,
   "metadata": {},
   "outputs": [
    {
     "data": {
      "text/plain": [
       "8"
      ]
     },
     "execution_count": 184,
     "metadata": {},
     "output_type": "execute_result"
    }
   ],
   "source": [
    "int(s.select('div.stars__wrap')[0].select('a')[0].text.replace(' reviews',''))"
   ]
  },
  {
   "cell_type": "code",
   "execution_count": 48,
   "metadata": {},
   "outputs": [
    {
     "data": {
      "text/plain": [
       "[<div class=\"title page-title\" style=\"margin-bottom:0px;\">Plum Perfect Body Mist 150ml</div>]"
      ]
     },
     "execution_count": 48,
     "metadata": {},
     "output_type": "execute_result"
    }
   ],
   "source": [
    "# Title\n",
    "title = s.select('.product-main__title') # For Oud or Our Creations\n",
    "title = s.select('.title.page-title') # For all others\n",
    "\n",
    "# Stars\n",
    "star = 5 - len(s.select('div.stars__wrap')[0].select(\".fas.fa-star.graystar\"))\n",
    "\n",
    "# Number of reviews\n",
    "reviews = int(s.select('div.stars__wrap')[0].select('a')[0].text.replace(' reviews',''))   # For Oud or Our Creations\n",
    "reviews = int(s.select('div.review-links')[0].select('a')[0].text.replace(' reviews',''))  # For all others\n",
    "\n",
    "# Price\n",
    "price = float(s.select('span.product-js-price')[1].text.replace('AED ',''))   # For Oud or Our Creations\n",
    "price = float(s.select('div.product-price')[0].text.replace('AED ',''))       # For all others\n",
    "\n",
    "# Hot or not\n",
    "if len(s.select('.hot__product.product-main__hot')) > 0: x=True"
   ]
  },
  {
   "cell_type": "code",
   "execution_count": 198,
   "metadata": {},
   "outputs": [],
   "source": [
    "def prod_info(prod_list_dict):\n",
    "    products = {}\n",
    "    for frag_type, prod_list in prod_list_dict.items():\n",
    "        for key, val in prod_list.items():\n",
    "            r = requests.get(val)\n",
    "            s = bs4.BeautifulSoup(r.content, 'lxml')\n",
    "            prod_dict = {}\n",
    "    \n",
    "            if frag_type in ['Our Creations','Dahn Al Oud']:\n",
    "                print(key)\n",
    "                try:\n",
    "                    prod_dict['name'] = s.select('.product-main__title')[0].text\n",
    "                except:\n",
    "                    prod_dict['title'] = None\n",
    "                    # logging.info(f\"Error retrieving title for url: {val}\")\n",
    "    \n",
    "                try:\n",
    "                    prod_dict['stars'] = 5 - len(s.select('div.stars__wrap')[0].select(\".fas.fa-star.graystar\"))\n",
    "                except:\n",
    "                    prod_dict['stars'] = None\n",
    "                    # logging.info(f\"Error retrieving stars for url: {val}\")\n",
    "    \n",
    "                try:\n",
    "                    prod_dict['reviews'] = int(s.select('div.stars__wrap')[0].select('a')[0].text.replace(' reviews',''))\n",
    "                except:\n",
    "                    prod_dict['reviews'] = None\n",
    "                    # logging.info(f\"Error retreiving reviews for url: {val}\")\n",
    "    \n",
    "                try:\n",
    "                    prod_dict['price'] = float(s.select('span.product-js-price')[1].text.replace('AED ',''))\n",
    "                except:\n",
    "                    prod_dict['price'] = None\n",
    "                    # logging.info(f\"Error retrieving price for url: {val}\")\n",
    "    \n",
    "                try:\n",
    "                    if len(s.select('.hot__product.product-main__hot')) > 0: prod_dict['hot']=True\n",
    "                except:\n",
    "                    prod_dict['hot'] = False\n",
    "                    # logging.error(f\"Error retrieving hot label for url: {val}\")\n",
    "    \n",
    "            else:\n",
    "                print(key)\n",
    "                try:\n",
    "                    prod_dict['name'] = s.select('.title.page-title')[0].text\n",
    "                except:\n",
    "                    prod_dict['title'] = None\n",
    "                    # logging.info(f\"Error retrieving title for url: {val}\")\n",
    "    \n",
    "                try:\n",
    "                    prod_dict['stars'] = 5 - len(s.select('div.stars__wrap')[0].select(\".fas.fa-star.graystar\"))\n",
    "                except:\n",
    "                    prod_dict['stars'] = None\n",
    "                    # logging.info(f\"Error retrieving stars for url: {val}\")\n",
    "    \n",
    "                try:\n",
    "                    prod_dict['reviews'] = int(s.select('div.review-links')[0].select('a')[0].text.replace(' reviews',''))\n",
    "                except:\n",
    "                    prod_dict['reviews'] = None\n",
    "                    # logging.info(f\"Error retreiving reviews for url: {val}\")\n",
    "    \n",
    "                try:\n",
    "                    prod_dict['price'] = float(s.select('div.product-price')[0].text.replace('AED ',''))\n",
    "                except:\n",
    "                    prod_dict['price'] = None\n",
    "                    # logging.info(f\"Error retrieving price for url: {val}\")\n",
    "    \n",
    "                try:\n",
    "                    if len(s.select('.hot__product.product-main__hot')) > 0: prod_dict['hot']=True\n",
    "                except:\n",
    "                    prod_dict['hot'] = False\n",
    "                    # logging.error(f\"Error retrieving hot label for url: {val}\")\n",
    "    \n",
    "            products[key] = prod_dict\n",
    "    \n",
    "    return products"
   ]
  },
  {
   "cell_type": "code",
   "execution_count": 199,
   "metadata": {},
   "outputs": [
    {
     "name": "stdout",
     "output_type": "stream",
     "text": [
      "Oud Cambodi Synthetic\n",
      "Oud Suyufi Synthetic\n",
      "Zafran Oud Synthetic\n",
      "Oud Hindi Sweety Synthetic\n",
      "Black Oud Synthetic\n",
      "Oud Bormi Synthetic\n",
      "Oud Khalifa Synthetic\n",
      "Oud Assami Synthetic\n",
      "Oud Khas Synthetic\n",
      "White Oud Synthetic\n",
      "Oud Trad Honey Synthetic\n",
      "White Oud Super Synthetic\n",
      "Oud Francy Synthetic\n",
      "Oud Saudi Synthetic\n",
      "Bulgari Gulab Synthetic\n",
      "Oud Turabi Synthetic\n",
      "Wild Deer Musk Oil (12ml or 1 Tola)\n",
      "Tahara Musk Oil (12ml or 1 Tola)\n",
      "Vanilla Musk Oil (12ml or 1 Tola)\n",
      "Oud Musk Oil (12ml or 1 Tola)\n",
      "Pears Musk Oil (12ml or 1 Tola)\n",
      "Peach Musk Oil (12ml or 1 Tola)\n",
      "Cherry Musk Oil (12ml or 1 Tola)\n",
      "Pomegranate Musk Oil (12ml or 1 Tola)\n",
      "Lavender Musk Oil (12ml or 1 Tola)\n",
      "Rose Musk Oil (12ml or 1 Tola)\n"
     ]
    }
   ],
   "source": [
    "products = prod_info(prod_list_dict)"
   ]
  },
  {
   "cell_type": "code",
   "execution_count": 200,
   "metadata": {},
   "outputs": [
    {
     "data": {
      "text/plain": [
       "{'Oud Cambodi Synthetic': {'name': 'Oud Cambodi Synthetic',\n",
       "  'stars': 5,\n",
       "  'reviews': 8,\n",
       "  'price': 120.0},\n",
       " 'Oud Suyufi Synthetic': {'name': 'Oud Suyufi Synthetic',\n",
       "  'stars': 5,\n",
       "  'reviews': 2,\n",
       "  'price': 120.0},\n",
       " 'Zafran Oud Synthetic': {'name': 'Zafran Oud Synthetic',\n",
       "  'stars': 5,\n",
       "  'reviews': 1,\n",
       "  'price': 55.0},\n",
       " 'Oud Hindi Sweety Synthetic': {'name': 'Oud Hindi Sweety Synthetic',\n",
       "  'stars': 5,\n",
       "  'reviews': 1,\n",
       "  'price': 120.0},\n",
       " 'Black Oud Synthetic': {'name': 'Black Oud Synthetic',\n",
       "  'stars': 5,\n",
       "  'reviews': None,\n",
       "  'price': 100.0},\n",
       " 'Oud Bormi Synthetic': {'name': 'Oud Bormi Synthetic',\n",
       "  'stars': 5,\n",
       "  'reviews': None,\n",
       "  'price': 130.0},\n",
       " 'Oud Khalifa Synthetic': {'name': 'Oud Khalifa Synthetic',\n",
       "  'stars': 5,\n",
       "  'reviews': None,\n",
       "  'price': 120.0},\n",
       " 'Oud Assami Synthetic': {'name': 'Oud Assami Synthetic',\n",
       "  'stars': 5,\n",
       "  'reviews': None,\n",
       "  'price': 110.0},\n",
       " 'Oud Khas Synthetic': {'name': 'Oud Khas Synthetic',\n",
       "  'stars': 5,\n",
       "  'reviews': None,\n",
       "  'price': 150.0},\n",
       " 'White Oud Synthetic': {'name': 'White Oud Synthetic',\n",
       "  'stars': 5,\n",
       "  'reviews': None,\n",
       "  'price': 70.0},\n",
       " 'Oud Trad Honey Synthetic': {'name': 'Oud Trad Honey Synthetic',\n",
       "  'stars': 5,\n",
       "  'reviews': None,\n",
       "  'price': 110.0},\n",
       " 'White Oud Super Synthetic': {'name': 'White Oud Super Synthetic',\n",
       "  'stars': 5,\n",
       "  'reviews': None,\n",
       "  'price': 110.0},\n",
       " 'Oud Francy Synthetic': {'name': 'Oud Francy Synthetic',\n",
       "  'stars': 5,\n",
       "  'reviews': None,\n",
       "  'price': 95.0},\n",
       " 'Oud Saudi Synthetic': {'name': 'Oud Saudi Synthetic',\n",
       "  'stars': 5,\n",
       "  'reviews': None,\n",
       "  'price': 100.0},\n",
       " 'Bulgari Gulab Synthetic': {'name': 'Bulgari Gulab Synthetic',\n",
       "  'stars': 5,\n",
       "  'reviews': None,\n",
       "  'price': 95.0},\n",
       " 'Oud Turabi Synthetic': {'name': 'Oud Turabi Synthetic',\n",
       "  'stars': 5,\n",
       "  'reviews': None,\n",
       "  'price': 125.0},\n",
       " 'Wild Deer Musk Oil (12ml or 1 Tola)': {'name': 'Wild Deer Musk Oil (12ml or 1 Tola)',\n",
       "  'stars': 4,\n",
       "  'reviews': 1,\n",
       "  'price': 55.0},\n",
       " 'Tahara Musk Oil (12ml or 1 Tola)': {'name': 'Tahara Musk Oil (12ml or 1 Tola)',\n",
       "  'stars': 5,\n",
       "  'reviews': 1,\n",
       "  'price': 55.0},\n",
       " 'Vanilla Musk Oil (12ml or 1 Tola)': {'name': 'Vanilla Musk Oil (12ml or 1 Tola)',\n",
       "  'stars': 5,\n",
       "  'reviews': 1,\n",
       "  'price': 55.0},\n",
       " 'Oud Musk Oil (12ml or 1 Tola)': {'name': 'Oud Musk Oil (12ml or 1 Tola)',\n",
       "  'stars': 5,\n",
       "  'reviews': 1,\n",
       "  'price': 55.0},\n",
       " 'Pears Musk Oil (12ml or 1 Tola)': {'name': 'Pears Musk Oil (12ml or 1 Tola)',\n",
       "  'stars': 0,\n",
       "  'reviews': 0,\n",
       "  'price': 55.0},\n",
       " 'Peach Musk Oil (12ml or 1 Tola)': {'name': 'Peach Musk Oil (12ml or 1 Tola)',\n",
       "  'stars': 0,\n",
       "  'reviews': 0,\n",
       "  'price': 55.0},\n",
       " 'Cherry Musk Oil (12ml or 1 Tola)': {'name': 'Cherry Musk Oil (12ml or 1 Tola)',\n",
       "  'stars': 0,\n",
       "  'reviews': 0,\n",
       "  'price': 55.0},\n",
       " 'Pomegranate Musk Oil (12ml or 1 Tola)': {'name': 'Pomegranate Musk Oil (12ml or 1 Tola)',\n",
       "  'stars': 0,\n",
       "  'reviews': 0,\n",
       "  'price': 55.0},\n",
       " 'Lavender Musk Oil (12ml or 1 Tola)': {'name': 'Lavender Musk Oil (12ml or 1 Tola)',\n",
       "  'stars': 0,\n",
       "  'reviews': 0,\n",
       "  'price': 55.0},\n",
       " 'Rose Musk Oil (12ml or 1 Tola)': {'name': 'Rose Musk Oil (12ml or 1 Tola)',\n",
       "  'stars': 0,\n",
       "  'reviews': 0,\n",
       "  'price': 55.0}}"
      ]
     },
     "execution_count": 200,
     "metadata": {},
     "output_type": "execute_result"
    }
   ],
   "source": [
    "products"
   ]
  },
  {
   "cell_type": "code",
   "execution_count": null,
   "metadata": {},
   "outputs": [],
   "source": []
  },
  {
   "cell_type": "code",
   "execution_count": 191,
   "metadata": {},
   "outputs": [
    {
     "name": "stdout",
     "output_type": "stream",
     "text": [
      "True\n",
      "False\n"
     ]
    }
   ],
   "source": [
    "for key, val in prod_list_dict.items():\n",
    "    print(key in ['Our Creations','Dahn Al Oud'])"
   ]
  },
  {
   "cell_type": "code",
   "execution_count": null,
   "metadata": {},
   "outputs": [],
   "source": []
  },
  {
   "cell_type": "code",
   "execution_count": null,
   "metadata": {},
   "outputs": [],
   "source": []
  },
  {
   "cell_type": "code",
   "execution_count": null,
   "metadata": {},
   "outputs": [],
   "source": []
  },
  {
   "cell_type": "code",
   "execution_count": null,
   "metadata": {},
   "outputs": [],
   "source": []
  },
  {
   "cell_type": "code",
   "execution_count": null,
   "metadata": {},
   "outputs": [],
   "source": []
  },
  {
   "cell_type": "code",
   "execution_count": null,
   "metadata": {},
   "outputs": [],
   "source": []
  },
  {
   "cell_type": "code",
   "execution_count": null,
   "metadata": {},
   "outputs": [],
   "source": []
  },
  {
   "cell_type": "code",
   "execution_count": null,
   "metadata": {},
   "outputs": [],
   "source": []
  },
  {
   "cell_type": "code",
   "execution_count": 40,
   "metadata": {},
   "outputs": [],
   "source": [
    "from selenium import webdriver\n",
    "from selenium.webdriver.common.by import By\n",
    "from selenium.webdriver.support.ui import WebDriverWait\n",
    "from selenium.webdriver.support import expected_conditions as EC\n",
    "from bs4 import BeautifulSoup\n",
    "\n",
    "# Initialize the web driver (make sure you have the appropriate driver installed)\n",
    "driver = webdriver.Chrome()\n",
    "url = \"https://www.parfum.ae/lv-imagination-body-mist/\"\n",
    "driver.get(url)\n",
    "\n",
    "# Click the tab you want (e.g., \"Specification\" tab)\n",
    "tab_selector = driver.find_element(By.ID, \"tab-review-tab\")\n",
    "tab_selector.click()\n",
    "\n",
    "# Wait for the dynamic content to load (adjust the timeout as needed)\n",
    "wait = WebDriverWait(driver, 10)\n",
    "element = wait.until(EC.presence_of_element_located((By.ID, \"tab-review\")))\n",
    "\n",
    "# Extract data from the selected tab\n",
    "page_content = driver.page_source\n",
    "soup = BeautifulSoup(page_content, \"lxml\")\n",
    "\n",
    "# Now, you can use BeautifulSoup to parse the content of the selected tab\n",
    "# For example: data = soup.find(\"element selector\").text\n",
    "\n",
    "# Close the web driver when you're done\n",
    "driver.quit()\n"
   ]
  },
  {
   "cell_type": "code",
   "execution_count": 41,
   "metadata": {},
   "outputs": [
    {
     "data": {
      "text/plain": [
       "[<p>Omg! I’m glad I bought this perfume! It actually smells like the LV imagination. I have the original LV but don’t want to use it all the time as it’s quiet pricey. So thanks God for the this dupe! Definitely will order more. Highly recommended </p>]"
      ]
     },
     "execution_count": 41,
     "metadata": {},
     "output_type": "execute_result"
    }
   ],
   "source": [
    "soup.select(\"div#review\")[0].select(\"p\")"
   ]
  },
  {
   "cell_type": "code",
   "execution_count": null,
   "metadata": {},
   "outputs": [],
   "source": []
  },
  {
   "cell_type": "code",
   "execution_count": null,
   "metadata": {},
   "outputs": [],
   "source": []
  },
  {
   "cell_type": "code",
   "execution_count": null,
   "metadata": {},
   "outputs": [],
   "source": []
  },
  {
   "cell_type": "code",
   "execution_count": null,
   "metadata": {},
   "outputs": [],
   "source": []
  },
  {
   "cell_type": "code",
   "execution_count": null,
   "metadata": {},
   "outputs": [],
   "source": []
  },
  {
   "cell_type": "code",
   "execution_count": null,
   "metadata": {},
   "outputs": [],
   "source": [
    "conn = mysql.connector.connect(\n",
    "    host = \"localhost\",\n",
    "    user = os.environ.get(\"MYSQL_USERNAME\"),\n",
    "    password = os.environ.get(\"MYSQL_PASSWORD\"),\n",
    "    database = \"parfumae_products\"\n",
    ")\n",
    "\n",
    "cursor = conn.cursor()"
   ]
  },
  {
   "cell_type": "code",
   "execution_count": null,
   "metadata": {},
   "outputs": [],
   "source": [
    "\n",
    "try:\n",
    "    for key, val in frag_type_dict.items():\n",
    "        serialized_value = json.dumps(val)\n",
    "\n",
    "        insert_query = \"INSERT INTO fragrance_types (name, url) VALUES (%s, %s)\"\n",
    "        cursor.execute(insert_query, (key, serialized_value))\n",
    "    \n",
    "    conn.commit()\n",
    "\n",
    "except mysql.connector.Error as err:\n",
    "    print(f\"Error: {err}\")\n",
    "    conn.rollback()\n",
    "\n",
    "cursor.close()\n",
    "conn.close()"
   ]
  }
 ],
 "metadata": {
  "kernelspec": {
   "display_name": "Python 3 (ipykernel)",
   "language": "python",
   "name": "python3"
  },
  "language_info": {
   "codemirror_mode": {
    "name": "ipython",
    "version": 3
   },
   "file_extension": ".py",
   "mimetype": "text/x-python",
   "name": "python",
   "nbconvert_exporter": "python",
   "pygments_lexer": "ipython3",
   "version": "3.8.3"
  }
 },
 "nbformat": 4,
 "nbformat_minor": 4
}
